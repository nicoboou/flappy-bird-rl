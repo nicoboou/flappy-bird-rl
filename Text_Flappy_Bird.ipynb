{
  "cells": [
    {
      "attachments": {},
      "cell_type": "markdown",
      "metadata": {
        "id": "W61Axf1MuCKu"
      },
      "source": [
        "# RL - Assignement - Text Flappy Bird"
      ]
    },
    {
      "cell_type": "markdown",
      "metadata": {
        "id": "UWJHsEqpuCKz"
      },
      "source": [
        "## Packages"
      ]
    },
    {
      "cell_type": "code",
      "execution_count": 2,
      "metadata": {
        "id": "O4FM_nLGuCK0"
      },
      "outputs": [],
      "source": [
        "# Third party imports\n",
        "import os\n",
        "import sys\n",
        "import time\n",
        "import shutil\n",
        "import numpy as np\n",
        "import matplotlib.pyplot as plt\n",
        "import pickle\n",
        "from scipy.stats import sem\n",
        "from tqdm import tqdm\n",
        "from collections import defaultdict\n",
        "\n",
        "# Local imports\n",
        "import gymnasium as gym\n",
        "from mpl_toolkits.mplot3d import axes3d\n",
        "from utils.plot_utils import plot_state_values, plot_policy\n",
        "\n",
        "import text_flappy_bird_gym\n",
        "from models.base_agent import BaseAgent\n",
        "\n",
        "%matplotlib inline"
      ]
    },
    {
      "cell_type": "code",
      "execution_count": 2,
      "metadata": {
        "id": "tYDnLmWAuCK2"
      },
      "outputs": [],
      "source": [
        "plt.rcParams.update({'font.size': 15})\n",
        "plt.rcParams.update({'figure.figsize': [10,5]})"
      ]
    },
    {
      "attachments": {},
      "cell_type": "markdown",
      "metadata": {},
      "source": [
        "## Environment"
      ]
    },
    {
      "cell_type": "code",
      "execution_count": 3,
      "metadata": {
        "id": "YApnDWUSuCLA"
      },
      "outputs": [],
      "source": [
        "env = gym.make('TextFlappyBird-v0', height = 15, width = 20, pipe_gap = 4)\n",
        "\n",
        "all_reward_sums = {} # Contains sum of rewards during episode\n",
        "all_state_visits = {} # Contains state visit counts during the last 10 episodes\n",
        "all_scores = {} # Contains the scores obtained for each run\n",
        "agent_info = {\"num_actions\": 2, \"epsilon\": 0.1, \"epsilon_decay\":.999, \"step_size\": 0.1, \"step_size_decay\": 0.9999, \"discount\": 1.0, \"seed\":42}\n",
        "agent_info[\"policy\"] = None\n",
        "env_info = {}"
      ]
    },
    {
      "attachments": {},
      "cell_type": "markdown",
      "metadata": {
        "id": "RXjM2DcbuCK2"
      },
      "source": [
        "## Agent 1: Expected SARSA"
      ]
    },
    {
      "cell_type": "code",
      "execution_count": 4,
      "metadata": {},
      "outputs": [],
      "source": [
        "from expected_sarsa import ExpectedSarsaAgent"
      ]
    },
    {
      "cell_type": "code",
      "execution_count": 5,
      "metadata": {},
      "outputs": [
        {
          "name": "stdout",
          "output_type": "stream",
          "text": [
            "Action Value Estimates: \n",
            " {(0, 0): {0: 0, 1: 0}}\n",
            "Action: 0\n"
          ]
        }
      ],
      "source": [
        "agent = ExpectedSarsaAgent(agent_info)\n",
        "all_reward_sums[\"expected_sarsa\"] = []\n",
        "all_state_visits[\"expected_sarsa\"] = []\n",
        "all_scores[\"expected_sarsa\"] = []\n",
        "\n",
        "action = agent.agent_start((0,0))\n",
        "print(\"Action Value Estimates: \\n\", agent.q)\n",
        "print(\"Action:\", action)"
      ]
    },
    {
      "attachments": {},
      "cell_type": "markdown",
      "metadata": {},
      "source": [
        "### Training"
      ]
    },
    {
      "cell_type": "code",
      "execution_count": 44,
      "metadata": {},
      "outputs": [
        {
          "name": "stderr",
          "output_type": "stream",
          "text": [
            "  2%|▏         | 224/10000 [00:00<00:16, 601.49it/s]"
          ]
        },
        {
          "name": "stdout",
          "output_type": "stream",
          "text": [
            "Run:  0 Average Reward Sum:  4.0\n",
            "Run:  0 Average Score:  0.0\n"
          ]
        },
        {
          "name": "stderr",
          "output_type": "stream",
          "text": [
            " 11%|█         | 1088/10000 [00:01<00:12, 722.10it/s]"
          ]
        },
        {
          "name": "stdout",
          "output_type": "stream",
          "text": [
            "Run:  1000 Average Reward Sum:  8.5\n",
            "Run:  1000 Average Score:  0.0\n"
          ]
        },
        {
          "name": "stderr",
          "output_type": "stream",
          "text": [
            " 21%|██        | 2068/10000 [00:03<00:16, 475.60it/s]"
          ]
        },
        {
          "name": "stdout",
          "output_type": "stream",
          "text": [
            "Run:  2000 Average Reward Sum:  19.6\n",
            "Run:  2000 Average Score:  0.7\n"
          ]
        },
        {
          "name": "stderr",
          "output_type": "stream",
          "text": [
            " 31%|███       | 3054/10000 [00:06<00:29, 234.78it/s]"
          ]
        },
        {
          "name": "stdout",
          "output_type": "stream",
          "text": [
            "Run:  3000 Average Reward Sum:  27.5\n",
            "Run:  3000 Average Score:  1.6\n"
          ]
        },
        {
          "name": "stderr",
          "output_type": "stream",
          "text": [
            " 40%|████      | 4045/10000 [00:12<00:44, 133.93it/s]"
          ]
        },
        {
          "name": "stdout",
          "output_type": "stream",
          "text": [
            "Run:  4000 Average Reward Sum:  57.8\n",
            "Run:  4000 Average Score:  4.6\n"
          ]
        },
        {
          "name": "stderr",
          "output_type": "stream",
          "text": [
            " 50%|█████     | 5040/10000 [00:20<00:46, 106.91it/s]"
          ]
        },
        {
          "name": "stdout",
          "output_type": "stream",
          "text": [
            "Run:  5000 Average Reward Sum:  90.0\n",
            "Run:  5000 Average Score:  7.9\n"
          ]
        },
        {
          "name": "stderr",
          "output_type": "stream",
          "text": [
            " 60%|██████    | 6025/10000 [00:30<00:47, 84.32it/s] "
          ]
        },
        {
          "name": "stdout",
          "output_type": "stream",
          "text": [
            "Run:  6000 Average Reward Sum:  62.1\n",
            "Run:  6000 Average Score:  4.9\n"
          ]
        },
        {
          "name": "stderr",
          "output_type": "stream",
          "text": [
            " 70%|███████   | 7017/10000 [00:41<00:28, 103.91it/s]"
          ]
        },
        {
          "name": "stdout",
          "output_type": "stream",
          "text": [
            "Run:  7000 Average Reward Sum:  76.0\n",
            "Run:  7000 Average Score:  6.5\n"
          ]
        },
        {
          "name": "stderr",
          "output_type": "stream",
          "text": [
            " 80%|████████  | 8015/10000 [00:52<00:22, 89.74it/s] "
          ]
        },
        {
          "name": "stdout",
          "output_type": "stream",
          "text": [
            "Run:  8000 Average Reward Sum:  55.7\n",
            "Run:  8000 Average Score:  4.4\n"
          ]
        },
        {
          "name": "stderr",
          "output_type": "stream",
          "text": [
            " 90%|█████████ | 9019/10000 [01:09<00:11, 85.71it/s]"
          ]
        },
        {
          "name": "stdout",
          "output_type": "stream",
          "text": [
            "Run:  9000 Average Reward Sum:  93.1\n",
            "Run:  9000 Average Score:  8.1\n"
          ]
        },
        {
          "name": "stderr",
          "output_type": "stream",
          "text": [
            "100%|██████████| 10000/10000 [01:24<00:00, 118.29it/s]\n"
          ]
        }
      ],
      "source": [
        "\n",
        "NUM_RUNS = 10000 # The number of runs\n",
        "NUM_EPISODES = 500 # The number of episodes in each run\n",
        "\n",
        "# Iteration over the number of runs\n",
        "for run in tqdm(range(NUM_RUNS)):\n",
        "\n",
        "    # Set the seed value to the current run index\n",
        "    agent_info[\"seed\"] = run\n",
        "\n",
        "    # Initialize the environment\n",
        "    # Returns (obs: (x_dist,y_dist), info: {\"score\", \"player\", \"distance\"})\n",
        "    state, info = env.reset()\n",
        "\n",
        "    # Set done to False\n",
        "    done = False\n",
        "\n",
        "    reward_sums = []\n",
        "    state_visits = {}\n",
        "\n",
        "    # Iterate over the number of episodes\n",
        "    for episode in range(NUM_EPISODES):\n",
        "        if episode == 0:\n",
        "      \n",
        "            # Keep track of the visited states\n",
        "            state, info = env.reset()\n",
        "            action = agent.agent_start(state)\n",
        "\n",
        "            state_visits[state] = 1\n",
        "            state, reward, done, _, info = env.step(action)\n",
        "            reward_sums.append(reward)\n",
        "\n",
        "        else:\n",
        "            while not done:\n",
        "              action = agent.agent_step(reward, state)\n",
        "\n",
        "              if state not in state_visits: \n",
        "                  state_visits[state] = 1\n",
        "              else:\n",
        "                  state_visits[state] += 1\n",
        "\n",
        "              state, reward, done, _, info = env.step(action)\n",
        "              reward_sums.append(reward)\n",
        "\n",
        "              # If terminal state\n",
        "              if done:\n",
        "                action = agent.agent_end(reward)\n",
        "                break\n",
        "\n",
        "    all_reward_sums[\"expected_sarsa\"].append(np.sum(reward_sums))\n",
        "    all_state_visits[\"expected_sarsa\"].append(state_visits)\n",
        "    all_scores[\"expected_sarsa\"].append(info[\"score\"])\n",
        "\n",
        "    # Print the average reward sum & average score for the last 10 episodes\n",
        "    if run % 1000 == 0:\n",
        "        print(\"Run: \", run, \"Average Reward Sum: \", np.mean(all_reward_sums[\"expected_sarsa\"][-10:]))\n",
        "        print(\"Run: \", run, \"Average Score: \", np.mean(all_scores[\"expected_sarsa\"][-10:]))\n",
        "\n",
        "# Save policy for simulation\n",
        "with open('expected_sarsa_q_values.pickle', 'wb') as handle:\n",
        "    pickle.dump(agent.q, handle, protocol=pickle.HIGHEST_PROTOCOL)\n",
        "\n",
        "# Save results for vizualization\n",
        "with open('expected_sarsa_results.pickle', 'wb') as handle:\n",
        "    pickle.dump(agent.q, handle, protocol=pickle.HIGHEST_PROTOCOL)\n"
      ]
    },
    {
      "cell_type": "code",
      "execution_count": 7,
      "metadata": {},
      "outputs": [],
      "source": [
        "with open('./models/expected_sarsa_q_values.pickle', 'rb') as handle:\n",
        "    q = pickle.load(handle)"
      ]
    },
    {
      "cell_type": "code",
      "execution_count": 9,
      "metadata": {},
      "outputs": [
        {
          "data": {
            "text/plain": [
              "{(0, 0): {0: 78.22308472165957, 1: 98.6280332668248},\n",
              " (13, -4): {0: 57.152386314719635, 1: 96.17373186200366},\n",
              " (12, -5): {0: 98.35214381971329, 1: 58.48409977579791},\n",
              " (11, -4): {0: 98.45331044230933, 1: 79.28958632559505},\n",
              " (10, -1): {0: 1.6199334204383478, 1: 99.2125229024188},\n",
              " (13, -3): {0: 96.90159784055508, 1: 66.74663096128491},\n",
              " (12, -3): {0: 71.30713697077586, 1: 98.24404532762755},\n",
              " (10, -3): {0: 91.42862274690214, 1: 99.76614094324904},\n",
              " (9, -4): {0: 97.5520264066694, 1: 99.22857661037062},\n",
              " (8, -5): {0: 98.26334113107765, 1: 95.13302932701589},\n",
              " (7, -4): {0: 97.360594900938, 1: 95.28314962855136},\n",
              " (6, -1): {0: 70.50042365970367, 1: 97.57387876120795},\n",
              " (5, -2): {0: 95.21959647846583, 1: 96.79853109012646},\n",
              " (4, -3): {0: 96.13099043340584, 1: 90.81648413094291},\n",
              " (3, -2): {0: 95.17823315155232, 1: 92.70458657136882},\n",
              " (2, -3): {0: 95.56336277691865, 1: 42.31895492352787},\n",
              " (1, -4): {0: 33.09945267503121, 1: 0.9997572505549683},\n",
              " (13, -1): {0: 95.64936137626259, 1: 62.01898408367162},\n",
              " (12, -1): {0: 97.06735210022336, 1: 69.98098561979533},\n",
              " (11, 1): {0: 56.61267998891732, 1: 100.1003444033458},\n",
              " (10, 5): {0: 14.048997429878971, 1: 86.92593536644583},\n",
              " (9, 4): {0: 88.7031751428914, 1: 96.12427616971036},\n",
              " (8, 5): {0: 69.69099388992443, 1: 94.12037391859256},\n",
              " (13, 1): {0: 74.20943534760066, 1: 95.91374615784522},\n",
              " (12, 0): {0: 97.68988515707095, 1: 62.83678955739255},\n",
              " (10, 4): {0: 17.485010259194887, 1: 0.7776046700509183},\n",
              " (10, -5): {0: 91.43136615841829, 1: 34.58238980983904},\n",
              " (1, -2): {0: 97.51387819339786, 1: 0.9999999999999996},\n",
              " (13, -5): {0: 96.37811191059787, 1: 14.6778511276695},\n",
              " (11, -3): {0: 83.31986131636495, 1: 98.79256953809494},\n",
              " (10, -4): {0: 99.72940634758476, 1: 82.74105567345012},\n",
              " (9, -3): {0: 97.73156586529912, 1: 99.4740773330497},\n",
              " (8, -4): {0: 98.69888547810608, 1: 96.02736543485031},\n",
              " (7, -3): {0: 96.9168603448681, 1: 97.90757296028329},\n",
              " (6, -4): {0: 97.11602944987948, 1: 94.84473390439051},\n",
              " (5, -5): {0: 96.53746795081547, 1: 68.42584845974514},\n",
              " (4, -4): {0: 96.6155636617518, 1: 90.0818532739478},\n",
              " (3, -1): {0: 88.03400099721016, 1: 96.27248761527959},\n",
              " (13, 2): {0: 73.31921934812904, 1: 92.92291598462464},\n",
              " (12, 1): {0: 78.01322817118165, 1: 93.08849695726346},\n",
              " (11, 0): {0: 93.90417749617056, 1: 75.42213212836417},\n",
              " (10, 1): {0: 79.82995919070889, 1: 100.03102479265385},\n",
              " (9, 0): {0: 92.29496215051785, 1: 99.80977932898877},\n",
              " (8, 1): {0: 93.5352971427701, 1: 98.0661687241788},\n",
              " (7, 0): {0: 92.61846171257271, 1: 97.21979468049702},\n",
              " (6, 1): {0: 45.921362293904835, 1: 96.3755822298679},\n",
              " (5, 4): {0: 33.9446578326088, 1: 92.8943141353198},\n",
              " (4, 9): {0: 0.46855900000000006, 1: 3.795303828655299},\n",
              " (3, 8): {0: 0.8168949935603169, 1: 2.927448294503918},\n",
              " (2, 7): {0: 1.0632175157754014, 1: 1.9876331805517151},\n",
              " (1, 6): {0: 0.9618479575523055, 1: 0.9999999999999996},\n",
              " (3, -4): {0: 92.53655952211591, 1: 71.6864394364357},\n",
              " (11, -6): {0: 23.52313969401267, 1: 72.06422589104866},\n",
              " (10, -7): {0: 4.848323289739498, 1: 87.48076603875629},\n",
              " (9, -8): {0: 97.01453656287462, 1: 87.39678480683493},\n",
              " (8, -7): {0: 98.00527930969592, 1: 62.67349183468349},\n",
              " (7, -8): {0: 43.47565819190999, 1: 72.67165557207693},\n",
              " (6, -9): {0: 71.5114286478208, 1: 16.531884927097693},\n",
              " (5, -8): {0: 41.441033408964444, 1: 70.80010821353038},\n",
              " (4, -9): {0: 72.39019110135601, 1: 3.0828292806491016},\n",
              " (3, -8): {0: 76.99452602577463, 1: 2.033198810292889},\n",
              " (2, -5): {0: 93.17458564950851, 1: 2.4705556250144993},\n",
              " (1, -6): {0: 0.9999934315705121, 1: 0.5217031000000001},\n",
              " (13, 0): {0: 95.75795951086661, 1: 81.56857331598391},\n",
              " (11, 2): {0: 52.488003865210075, 1: 99.36268600356713},\n",
              " (10, 6): {0: 0.999990738612869, 1: 78.31710479132315},\n",
              " (13, 3): {0: 78.64090532441502, 1: 93.51689507115343},\n",
              " (12, 2): {0: 24.907479196997077, 1: 97.18020501229113},\n",
              " (10, 2): {0: 16.23061317396673, 1: 88.8320615499874},\n",
              " (9, 5): {0: 39.69642139534989, 1: 93.56044790025702},\n",
              " (8, 4): {0: 67.20692909059348, 1: 94.21362876241629},\n",
              " (7, 3): {0: 81.61653209146296, 1: 93.91541723142369},\n",
              " (6, 4): {0: 4.636302224301728, 1: 89.92886030965153},\n",
              " (5, 7): {0: 2.2931624943265, 1: 1.2584232715224073},\n",
              " (1, 8): {0: 0.6513215599000001, 1: 0.1},\n",
              " (9, 1): {0: 88.76766618194834, 1: 100.16474179131858},\n",
              " (8, 0): {0: 94.72698663841324, 1: 99.38805302320063},\n",
              " (7, -1): {0: 87.50089160290091, 1: 98.7672317470847},\n",
              " (6, -2): {0: 87.17179723790593, 1: 98.21724729138226},\n",
              " (5, -1): {0: 64.45635175582979, 1: 96.82436198027239},\n",
              " (4, 2): {0: 38.41157297070947, 1: 92.79989218487034},\n",
              " (3, 1): {0: 11.770871298627993, 1: 95.90595107683775},\n",
              " (2, 2): {0: 1.799198588890115, 1: 91.5371975535136},\n",
              " (1, 1): {0: 0.9999999999999996, 1: 96.90093715222143},\n",
              " (6, 0): {0: 72.00293865763035, 1: 96.39221622461757},\n",
              " (5, 5): {0: 2.406303728729899, 1: 79.34299389650467},\n",
              " (4, 4): {0: 3.1596709852951905, 1: 83.41009523838746},\n",
              " (3, 3): {0: 2.6448238032171596, 1: 87.42291456402224},\n",
              " (9, -2): {0: 98.54164544544157, 1: 99.21585697986407},\n",
              " (8, -3): {0: 96.97703659564728, 1: 98.26263341458109},\n",
              " (7, -2): {0: 95.1943569200469, 1: 98.12936322633904},\n",
              " (13, -2): {0: 65.15261561725325, 1: 96.8841028041126},\n",
              " (9, 2): {0: 89.0065335238768, 1: 98.8787831937125},\n",
              " (2, 1): {0: 4.901775746023011, 1: 98.26254336050432},\n",
              " (10, 3): {0: 32.47242917881196, 1: 52.38338408431561},\n",
              " (4, 3): {0: 66.38689673445293, 1: 94.17443498783561},\n",
              " (3, 4): {0: 2.4599671958318488, 1: 87.08975853360398},\n",
              " (8, 2): {0: 90.27211335228338, 1: 96.85708369710989},\n",
              " (7, 1): {0: 83.12099836409696, 1: 96.3557862679496},\n",
              " (5, 1): {0: 29.683895397070348, 1: 96.09232002078998},\n",
              " (4, 0): {0: 62.12210378322586, 1: 96.9559481898358},\n",
              " (2, 0): {0: 8.078034219118704, 1: 99.08367705489334},\n",
              " (1, -1): {0: 71.1120935606931, 1: 99.88634766330992},\n",
              " (12, -4): {0: 86.08341914882041, 1: 1.6745315505352951},\n",
              " (13, 4): {0: 22.378306048019468, 1: 93.55293730081559},\n",
              " (12, 3): {0: 20.494391048279244, 1: 97.13776579338153},\n",
              " (9, 6): {0: 63.55917510417911, 1: 93.70406826112973},\n",
              " (8, 11): {0: 0.9999444667132745, 1: 0.4054142669525},\n",
              " (12, -2): {0: 10.710351404788355, 1: 87.71228755440444},\n",
              " (9, -1): {0: 97.83371126273016, 1: 99.24987252868989},\n",
              " (4, -1): {0: 93.74721030570267, 1: 96.04953475721842},\n",
              " (6, -5): {0: 96.27139908328874, 1: 71.13897696587796},\n",
              " (5, -4): {0: 96.75481918432048, 1: 66.69511493177001},\n",
              " (11, -1): {0: 15.565947213506687, 1: 76.49198175990587},\n",
              " (10, -2): {0: 89.19596750860006, 1: 29.464237126002324},\n",
              " (9, 7): {0: 40.15456306787899, 1: 23.41818470517799},\n",
              " (4, -2): {0: 96.08331451899001, 1: 94.08244712706785},\n",
              " (3, -3): {0: 95.6363155842744, 1: 93.25892767773655},\n",
              " (2, -2): {0: 90.42061395565841, 1: 95.46104392095218},\n",
              " (9, -7): {0: 93.33784703534226, 1: 98.32161867254686},\n",
              " (8, -8): {0: 97.9968479580363, 1: 84.27425745535936},\n",
              " (7, -7): {0: 97.83383257846414, 1: 86.53645829210967},\n",
              " (6, -8): {0: 90.7681615335826, 1: 37.43342336165641},\n",
              " (5, -7): {0: 92.05648270756771, 1: 32.51476937397133},\n",
              " (4, -8): {0: 80.78715323956276, 1: 10.076590556756916},\n",
              " (3, -9): {0: 2.9346394543542775, 1: 1.1897779631382344},\n",
              " (2, -8): {0: 1.0822691678797942, 1: 1.982947266034023},\n",
              " (1, -9): {0: 0.9999999999046965, 1: 0.717570463519},\n",
              " (8, 9): {0: 1.2374225773461591, 1: 29.563585840113294},\n",
              " (5, 0): {0: 67.76997167987616, 1: 96.83535917877198},\n",
              " (2, -1): {0: 95.22054771147239, 1: 88.40498992568664},\n",
              " (1, 2): {0: 0.9999999991290026, 1: 97.71944142334478},\n",
              " (0, 1): {0: 83.01414766813897, 1: 97.39372792515029},\n",
              " (10, 0): {0: 100.18800187998156, 1: 90.18014846510208},\n",
              " (12, -6): {0: 1.397421555435937, 1: 25.599501457582072},\n",
              " (11, -7): {0: 42.38809232686124, 1: 0.1},\n",
              " (10, -6): {0: 16.8752168202424, 1: 64.13104181225748},\n",
              " (7, -9): {0: 96.67694695862782, 1: 44.74366813303051},\n",
              " (3, 2): {0: 67.85602135093703, 1: 94.96883177143567},\n",
              " (2, 9): {0: 0.975617965749108, 1: 0.37945195354500005},\n",
              " (11, -2): {0: 88.66617364958196, 1: 18.269292626106548},\n",
              " (5, -3): {0: 95.45227297137731, 1: 97.31986416926365},\n",
              " (3, 7): {0: 1.299171090562484, 1: 0.4342396954532059},\n",
              " (11, 3): {0: 44.01417036758429, 1: 12.306161171616937},\n",
              " (9, -6): {0: 99.22020726959681, 1: 94.79229374870931},\n",
              " (7, 2): {0: 91.15098776414303, 1: 94.85491764306875},\n",
              " (6, -3): {0: 97.12016795317763, 1: 95.87284453014306},\n",
              " (3, 0): {0: 69.98403668911082, 1: 95.49496425555608},\n",
              " (1, 0): {0: 53.19790906783244, 1: 99.74382858057743},\n",
              " (0, -1): {0: 95.95590659186344, 1: 99.50419256275666},\n",
              " (4, 6): {0: 2.3233734389806675, 1: 0},\n",
              " (7, 4): {0: 80.1278062323083, 1: 94.23719534048706},\n",
              " (6, 3): {0: 81.14507747735814, 1: 94.29225385697161},\n",
              " (5, 2): {0: 85.23639906549641, 1: 94.10940471403806},\n",
              " (3, 6): {0: 2.0856128440918256, 1: 2.970084373346586},\n",
              " (8, -2): {0: 96.38925837991295, 1: 98.44601203797596},\n",
              " (9, 3): {0: 80.85187848202204, 1: 97.5975712589687},\n",
              " (8, 6): {0: 6.752189502151959, 1: 65.65810996050156},\n",
              " (9, -5): {0: 99.482566210653, 1: 93.4571016558128},\n",
              " (8, -6): {0: 59.74788671528234, 1: 96.76025793770961},\n",
              " (8, 3): {0: 90.66420080394225, 1: 95.54585241779967},\n",
              " (7, -5): {0: 96.98419646150249, 1: 75.61172287135352},\n",
              " (5, 3): {0: 47.76796963389566, 1: 91.31140972322997},\n",
              " (9, 8): {0: 4.6784702967627885, 1: 80.77904268089631},\n",
              " (8, 7): {0: 15.490298349694953, 1: 84.6573822455426},\n",
              " (7, 6): {0: 23.857606455075473, 1: 87.69307922964495},\n",
              " (6, 7): {0: 1.2367133787654234, 1: 66.95696522654983},\n",
              " (5, 6): {0: 4.253869058096857, 1: 76.19827768012037},\n",
              " (4, 7): {0: 1.5192302821756554, 1: 3.9290204644811606},\n",
              " (4, 8): {0: 0.1, 1: 1.4000482936167766},\n",
              " (2, 8): {0: 1.8762170606106119, 1: 0.215745},\n",
              " (7, -6): {0: 97.01812538601428, 1: 60.15657653675327},\n",
              " (12, 4): {0: 39.26142750236342, 1: 0.6141723710912252},\n",
              " (11, 6): {0: 0, 1: 62.860354406910545},\n",
              " (7, 8): {0: 1.049316800835688, 1: 51.91747126060438},\n",
              " (2, 5): {0: 1.6108569990928254, 1: 1.9905027813222294},\n",
              " (1, 4): {0: 0.9999999999999996, 1: 0.814697981114816},\n",
              " (6, 5): {0: 39.218685664438084, 1: 89.93541707882845},\n",
              " (11, 4): {0: 0.41990190000000005, 1: 34.63460237090452},\n",
              " (2, 4): {0: 0.5872130324648528, 1: 1.9704673138014277},\n",
              " (1, 3): {0: 0.9999999999996021, 1: 0.46855900000000006},\n",
              " (8, -1): {0: 96.9500699206343, 1: 98.95508986551849},\n",
              " (2, 6): {0: 0.19, 1: 1.986168875804148},\n",
              " (1, 5): {0: 0.9999999999923981, 1: 0.7712320754503901},\n",
              " (4, 5): {0: 1.713520196388116, 1: 82.60728137511592},\n",
              " (2, -10): {0: 0.287756607697346, 1: 1.9405589203729796},\n",
              " (1, -10): {0: 0.9353891811077333, 1: 0.1},\n",
              " (8, 8): {0: 1.216941721575545, 1: 67.65360153915614},\n",
              " (7, 7): {0: 1.721904877983574, 1: 71.36053015380014},\n",
              " (6, 6): {0: 2.2961414654231254, 1: 75.29363601857482},\n",
              " (7, 10): {0: 0.1, 1: 1.192563067269524},\n",
              " (6, 11): {0: 0.19, 1: 0},\n",
              " (6, 9): {0: 1.1450681306238388, 1: 0.28835978452783173},\n",
              " (5, 10): {0: 0.8905810108684877, 1: 0.46158043997505493},\n",
              " (1, 10): {0: 0.9690968456173674, 1: 0.19},\n",
              " (6, 2): {0: 85.38205890611128, 1: 93.39848409051099},\n",
              " (2, 3): {0: 1.9825913579802923, 1: 92.12972991565627},\n",
              " (1, -3): {0: 99.67494072367238, 1: 0.9999999999999996},\n",
              " (3, -10): {0: 0.1, 1: 2.086262169188141},\n",
              " (2, -9): {0: 1.6665930021644195, 1: 0.17739630820590754},\n",
              " (4, -5): {0: 43.86835878297382, 1: 76.42420434739962},\n",
              " (3, -6): {0: 82.8423683844526, 1: 9.617861487586879},\n",
              " (0, -2): {0: 96.19924785204535, 1: 99.47386054054769},\n",
              " (11, -5): {0: 15.250127801429022, 1: 3.955949161609558},\n",
              " (3, -5): {0: 93.31958236420611, 1: 18.506065017323234},\n",
              " (2, -4): {0: 96.89574709839023, 1: 19.353613923702977},\n",
              " (3, -7): {0: 92.94043575699025, 1: 2.910362875705271},\n",
              " (10, 7): {0: 0.5217031000000001, 1: 0},\n",
              " (4, 1): {0: 63.56885762398693, 1: 94.99512456501321},\n",
              " (5, -6): {0: 84.09123637010875, 1: 16.621157283903642},\n",
              " (5, 9): {0: 0.6768322212387478, 1: 0},\n",
              " (5, 8): {0: 0.8643661529245443, 1: 0.9138135829488363},\n",
              " (4, -6): {0: 92.00258741015537, 1: 9.407298793675256},\n",
              " (2, -6): {0: 17.022229604945, 1: 0},\n",
              " (6, -6): {0: 96.62518006327944, 1: 85.41429344603202},\n",
              " (10, -8): {0: 0.22086997839114042, 1: 0},\n",
              " (1, -7): {0: 0, 1: 0.19},\n",
              " (2, 11): {0: 0.19, 1: 1.696509894597635},\n",
              " (5, -9): {0: 46.25984876345321, 1: 11.774797409418682},\n",
              " (9, -9): {0: 91.97103479690485, 1: 94.69896648395067},\n",
              " (8, -10): {0: 95.70859171589093, 1: 52.32581765096298},\n",
              " (3, 10): {0: 0.9576088417247839, 1: 0.34783736163193824},\n",
              " (6, 8): {0: 1.1554644154326847, 1: 0.7094183658321137},\n",
              " (2, -7): {0: 28.343128052526698, 1: 0.42399872135889594},\n",
              " (3, 9): {0: 0.1095, 1: 2.6375366675307785},\n",
              " (1, 9): {0: 0.9866972053527088, 1: 0.1},\n",
              " (8, -9): {0: 92.92860161382507, 1: 50.76029813252868},\n",
              " (7, 5): {0: 3.3940627597635613, 1: 83.9713391742744},\n",
              " (6, -7): {0: 25.52016717086904, 1: 68.84004794213476},\n",
              " (4, -7): {0: 0, 1: 55.98976090503522},\n",
              " (11, 5): {0: 0, 1: 2.8239933144353904},\n",
              " (1, -11): {0: 0.40951000000000004, 1: 0.9977814687655379},\n",
              " (9, 9): {0: 1.0050234927836184, 1: 59.315512427372404},\n",
              " (8, 10): {0: 0.5217031000000001, 1: 2.4511419571552606},\n",
              " (7, 9): {0: 1.7087341543616097, 1: 0.6953436088644642},\n",
              " (6, 10): {0: 0.9995889016832943, 1: 0.1326705},\n",
              " (5, -10): {0: 50.66071167845798, 1: 0},\n",
              " (7, -11): {0: 62.63995747539334, 1: 7.1838766205140825},\n",
              " (6, -10): {0: 28.48152560704615, 1: 62.45079537232897},\n",
              " (5, -11): {0: 71.27630861185833, 1: 0.8077145097316931},\n",
              " (4, -12): {0: 0, 1: 0.9192351200411952},\n",
              " (3, -12): {0: 1.4371510323655197, 1: 0},\n",
              " (2, -11): {0: 1.700363187778468, 1: 0.1},\n",
              " (1, -8): {0: 0, 1: 0.9797244404095546},\n",
              " (9, -10): {0: 92.08980449257473, 1: 49.827012464189714},\n",
              " (3, 5): {0: 0.23204287225000003, 1: 2.897147941947834},\n",
              " (9, 10): {0: 0.19, 1: 14.288582159129117},\n",
              " (1, -5): {0: 20.30056390128802, 1: 0.5217031000000001},\n",
              " (4, -10): {0: 79.25087801076646, 1: 3.5839233979655596},\n",
              " (3, -11): {0: 2.825593163534891, 1: 0.20711013435160508},\n",
              " (2, 10): {0: 0.54255655, 1: 0},\n",
              " (7, -10): {0: 64.00089798522248, 1: 4.778057066900499},\n",
              " (8, -11): {0: 58.52671852990431, 1: 5.852247133314676},\n",
              " (4, 10): {0: 0.1, 1: 2.648155288178505},\n",
              " (7, -12): {0: 0.1972579484158843, 1: 5.918722288685009},\n",
              " (6, -12): {0: 32.978274194904195, 1: 0.2090382375},\n",
              " (5, -12): {0: 0.40516849545913675, 1: 0},\n",
              " (4, -11): {0: 0, 1: 0.830475004199277},\n",
              " (7, 11): {0: 0.6513215599000001, 1: 0},\n",
              " (4, 11): {0: 0.34390000000000004, 1: 0},\n",
              " (9, -11): {0: 94.2014369174156, 1: 17.25817159460704},\n",
              " (8, -12): {0: 36.67322563667044, 1: 0.5906929281231236},\n",
              " (9, -12): {0: 43.940792362828404, 1: 3.6776761193722556},\n",
              " (6, -11): {0: 19.66415214714309, 1: 3.4511057855017127},\n",
              " (3, 11): {0: 0, 1: 0.23891550000000003},\n",
              " (1, 11): {0: 0.34390000000000004, 1: 0},\n",
              " (5, 11): {0: 0.40951000000000004, 1: 0},\n",
              " (2, -12): {0: 0.35814389285022075, 1: 0},\n",
              " (1, 7): {0: 0.34390000000000004, 1: 0},\n",
              " (1, -12): {0: 0.1, 1: 0},\n",
              " (9, 11): {0: 0.1, 1: 0}}"
            ]
          },
          "execution_count": 9,
          "metadata": {},
          "output_type": "execute_result"
        }
      ],
      "source": [
        "q"
      ]
    },
    {
      "cell_type": "code",
      "execution_count": 8,
      "metadata": {},
      "outputs": [
        {
          "data": {
            "image/png": "[encoded data removed]",
            "text/plain": [
              "<Figure size 1500x1500 with 2 Axes>"
            ]
          },
          "metadata": {},
          "output_type": "display_data"
        }
      ],
      "source": [
        "plot_policy(q)"
      ]
    },
    {
      "attachments": {},
      "cell_type": "markdown",
      "metadata": {},
      "source": [
        "## Agent 2: Deep Q-Learning"
      ]
    },
    {
      "cell_type": "code",
      "execution_count": null,
      "metadata": {},
      "outputs": [],
      "source": [
        "import math\n",
        "import random\n",
        "from collections import namedtuple, deque\n",
        "from itertools import count\n",
        "\n",
        "import torch\n",
        "import torch.nn as nn\n",
        "import torch.optim as optim\n",
        "import torch.nn.functional as F\n",
        "\n",
        "env = gym.make(\"CartPole-v1\")\n",
        "\n",
        "# if gpu is to be used\n",
        "device = torch.device(\"cuda\" if torch.cuda.is_available() else \"cpu\")"
      ]
    },
    {
      "attachments": {},
      "cell_type": "markdown",
      "metadata": {},
      "source": [
        "## Comparison"
      ]
    },
    {
      "cell_type": "code",
      "execution_count": null,
      "metadata": {
        "colab": {
          "base_uri": "https://localhost:8080/",
          "height": 466
        },
        "id": "f2v7zh58uCLC",
        "outputId": "f0a50b3e-b3c9-4e7f-d0f6-2cd8d6f912cb"
      },
      "outputs": [
        {
          "name": "stderr",
          "output_type": "stream",
          "text": [
            "/var/folders/r7/nptln7p562l2yhwpxw1nxp880000gn/T/ipykernel_13440/3063769084.py:12: MatplotlibDeprecationWarning: You are modifying the state of a globally registered colormap. This has been deprecated since 3.3 and in 3.6, you will not be able to modify a registered colormap in-place. To remove this warning, you can make a copy of the colormap first. cmap = mpl.cm.get_cmap(\"viridis\").copy()\n",
            "  cm.set_bad('gray')\n"
          ]
        },
        {
          "data": {
            "image/png": "[encoded data removed]",
            "text/plain": [
              "<Figure size 1000x500 with 4 Axes>"
            ]
          },
          "metadata": {},
          "output_type": "display_data"
        }
      ],
      "source": [
        "# Do not modify this cell\n",
        "\n",
        "for algorithm, position in [(\"Q-learning\", 211), (\"Expected Sarsa\", 212)]:\n",
        "    plt.subplot(position)\n",
        "    average_state_visits = np.array(all_state_visits[algorithm]).mean(axis=0)\n",
        "    grid_state_visits = average_state_visits.reshape((4,12))\n",
        "    grid_state_visits[0,1:-1] = np.nan\n",
        "    plt.pcolormesh(grid_state_visits, edgecolors='gray', linewidth=2)\n",
        "    plt.title(algorithm)\n",
        "    plt.axis('off')\n",
        "    cm = plt.get_cmap()\n",
        "    cm.set_bad('gray')\n",
        "\n",
        "    plt.subplots_adjust(bottom=0.0, right=0.7, top=1.0)\n",
        "    cax = plt.axes([0.85, 0.0, 0.075, 1.])\n",
        "cbar = plt.colorbar(cax=cax)\n",
        "cbar.ax.set_ylabel(\"Visits during\\n the last 10\\n episodes\", rotation=0, labelpad=70)\n",
        "plt.show()"
      ]
    },
    {
      "cell_type": "markdown",
      "metadata": {
        "id": "IHKw1h3QuCLC"
      },
      "source": [
        "\n",
        "\n",
        "Previously we used a fixed step-size of 0.5 for the agents. What happens with other step-sizes? Does this difference in performance persist?\n",
        "\n",
        "In the next experiment we will try 10 different step-sizes from 0.1 to 1.0 and compare the sum of rewards per episode averaged over the first 100 episodes (similar to the interim performance curves in Figure 6.3 of the textbook). Shaded regions show standard errors.\n",
        "\n",
        "This cell takes around 10 minutes to run. The result of this cell will be graded. If you make any changes to your algorithms, you have to run this cell again before submitting the assignment."
      ]
    },
    {
      "cell_type": "code",
      "execution_count": null,
      "metadata": {
        "colab": {
          "base_uri": "https://localhost:8080/",
          "height": 691
        },
        "id": "BBOWjslXuCLD",
        "outputId": "5ec35eb9-ba50-4843-fa2f-da6564698b34",
        "scrolled": false
      },
      "outputs": [
        {
          "name": "stderr",
          "output_type": "stream",
          "text": [
            "100%|██████████| 100/100 [00:45<00:00,  2.20it/s]\n",
            "100%|██████████| 100/100 [00:30<00:00,  3.25it/s]\n",
            "100%|██████████| 100/100 [00:25<00:00,  3.90it/s]\n",
            "100%|██████████| 100/100 [00:23<00:00,  4.28it/s]\n",
            "100%|██████████| 100/100 [00:19<00:00,  5.04it/s]\n",
            "100%|██████████| 100/100 [00:18<00:00,  5.46it/s]\n",
            "100%|██████████| 100/100 [00:16<00:00,  5.91it/s]\n",
            "100%|██████████| 100/100 [00:16<00:00,  5.94it/s]\n",
            "100%|██████████| 100/100 [00:17<00:00,  5.85it/s]\n",
            "100%|██████████| 100/100 [00:16<00:00,  6.10it/s]\n",
            "100%|██████████| 100/100 [01:29<00:00,  1.12it/s]\n",
            "100%|██████████| 100/100 [00:58<00:00,  1.72it/s]\n",
            "100%|██████████| 100/100 [00:46<00:00,  2.16it/s]\n",
            "100%|██████████| 100/100 [00:42<00:00,  2.36it/s]\n",
            "100%|██████████| 100/100 [00:36<00:00,  2.70it/s]\n",
            "100%|██████████| 100/100 [00:31<00:00,  3.17it/s]\n",
            "100%|██████████| 100/100 [00:30<00:00,  3.30it/s]\n",
            "100%|██████████| 100/100 [00:28<00:00,  3.46it/s]\n",
            "100%|██████████| 100/100 [00:29<00:00,  3.34it/s]\n",
            "100%|██████████| 100/100 [00:25<00:00,  3.86it/s]\n"
          ]
        },
        {
          "data": {
            "image/png": "[encoded data removed]",
            "text/plain": [
              "<Figure size 1000x500 with 1 Axes>"
            ]
          },
          "metadata": {},
          "output_type": "display_data"
        }
      ],
      "source": [
        "# Do not modify this cell\n",
        "\n",
        "agents = {\n",
        "    \"Q-learning\": QLearningAgent,\n",
        "    \"Expected Sarsa\": ExpectedSarsaAgent\n",
        "}\n",
        "env = cliffworld_env.Environment\n",
        "all_reward_sums = {}\n",
        "step_sizes = np.linspace(0.1,1.0,10)\n",
        "agent_info = {\"num_actions\": 4, \"num_states\": 48, \"epsilon\": 0.1, \"discount\": 1.0}\n",
        "env_info = {}\n",
        "num_runs = 100\n",
        "num_episodes = 100\n",
        "all_reward_sums = {}\n",
        "\n",
        "for algorithm in [\"Q-learning\", \"Expected Sarsa\"]:\n",
        "    for step_size in step_sizes:\n",
        "        all_reward_sums[(algorithm, step_size)] = []\n",
        "        agent_info[\"step_size\"] = step_size\n",
        "        for run in tqdm(range(num_runs)):\n",
        "            agent_info[\"seed\"] = run\n",
        "            rl_glue = RLGlue(env, agents[algorithm])\n",
        "            rl_glue.rl_init(agent_info, env_info)\n",
        "\n",
        "            return_sum = 0\n",
        "            for episode in range(num_episodes):\n",
        "                rl_glue.rl_episode(0)\n",
        "                return_sum += rl_glue.rl_return()\n",
        "            all_reward_sums[(algorithm, step_size)].append(return_sum/num_episodes)\n",
        "        \n",
        "\n",
        "for algorithm in [\"Q-learning\", \"Expected Sarsa\"]:\n",
        "    algorithm_means = np.array([np.mean(all_reward_sums[(algorithm, step_size)]) for step_size in step_sizes])\n",
        "    algorithm_stds = np.array([sem(all_reward_sums[(algorithm, step_size)]) for step_size in step_sizes])\n",
        "    plt.plot(step_sizes, algorithm_means, marker='o', linestyle='solid', label=algorithm)\n",
        "    plt.fill_between(step_sizes, algorithm_means + algorithm_stds, algorithm_means - algorithm_stds, alpha=0.2)\n",
        "\n",
        "plt.legend()\n",
        "plt.xlabel(\"Step-size\")\n",
        "plt.ylabel(\"Sum of\\n rewards\\n per episode\",rotation=0, labelpad=50)\n",
        "plt.xticks(step_sizes)\n",
        "plt.show()"
      ]
    },
    {
      "attachments": {},
      "cell_type": "markdown",
      "metadata": {
        "id": "YvEc1Hhu5Syo"
      },
      "source": [
        "### Question:\n",
        "Interpret the graph above.  \n",
        "\n",
        "**Interpretations**:  \n",
        "- Increasing the step-size improves the performance of the two algorithms in the Cliff Walking environment.\n",
        "    - Until a certain threshold, where Q-learning stabilizes and starts to degrades slowly with the step-size getting bigger.\n",
        "    - Expected Sarsa overcomes Q-Learning in any configuration."
      ]
    },
    {
      "cell_type": "markdown",
      "metadata": {
        "id": "jwzIY8oOuCLD"
      },
      "source": [
        "Congratulations! Now you have:\n",
        "- implemented MC control for BlackJack\n",
        "- implemented Q-Learning with $\\epsilon$-greedy action selection\n",
        "- implemented Expected Sarsa with $\\epsilon$-greedy action selection\n",
        "- investigated the behavior of these last two algorithms on Cliff World\n",
        "\n"
      ]
    },
    {
      "cell_type": "markdown",
      "metadata": {},
      "source": []
    }
  ],
  "metadata": {
    "colab": {
      "provenance": [],
      "toc_visible": true
    },
    "coursera": {
      "course_slug": "sample-based-learning-methods",
      "launcher_item_id": "biN1L"
    },
    "kernelspec": {
      "display_name": "Python 3",
      "language": "python",
      "name": "python3"
    },
    "language_info": {
      "codemirror_mode": {
        "name": "ipython",
        "version": 3
      },
      "file_extension": ".py",
      "mimetype": "text/x-python",
      "name": "python",
      "nbconvert_exporter": "python",
      "pygments_lexer": "ipython3",
      "version": "3.9.16"
    }
  },
  "nbformat": 4,
  "nbformat_minor": 0
}
